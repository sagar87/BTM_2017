{
 "cells": [
  {
   "cell_type": "markdown",
   "metadata": {},
   "source": [
    "# Problem 1 - Data Plotting"
   ]
  },
  {
   "cell_type": "code",
   "execution_count": null,
   "metadata": {
    "collapsed": false
   },
   "outputs": [],
   "source": [
    "# DON'T EDIT THIS CELL\n",
    "%load_ext autoreload\n",
    "%autoreload 2\n",
    "%matplotlib inline\n",
    "%config InlineBackend.figure_format = 'retina'\n",
    "from btm_helper import *"
   ]
  },
  {
   "cell_type": "markdown",
   "metadata": {},
   "source": [
    "In the first problem we will first try to get a rough idea about the data we have. Let's start by loading necessaries python libraries. We will use `numpy` for all calculations and `matplotlib` to visualize our data. It is common to import these libraries using the commands `import numpy as np` and `import matplotlib.pyplot as plt`. Use the next cell to import the libraries."
   ]
  },
  {
   "cell_type": "code",
   "execution_count": null,
   "metadata": {
    "collapsed": true
   },
   "outputs": [],
   "source": []
  },
  {
   "cell_type": "markdown",
   "metadata": {},
   "source": [
    "Next try to import the data using the `np.loadtxt` and save it to the variable data."
   ]
  },
  {
   "cell_type": "code",
   "execution_count": null,
   "metadata": {
    "collapsed": true
   },
   "outputs": [],
   "source": [
    "data = "
   ]
  },
  {
   "cell_type": "code",
   "execution_count": null,
   "metadata": {
    "collapsed": false
   },
   "outputs": [],
   "source": [
    "# DON'T EDIT THIS CELL\n",
    "test_data_array(data)"
   ]
  },
  {
   "cell_type": "markdown",
   "metadata": {},
   "source": [
    "Excecute the next cell to can display the contents of the data array."
   ]
  },
  {
   "cell_type": "code",
   "execution_count": null,
   "metadata": {
    "collapsed": false
   },
   "outputs": [],
   "source": [
    "data"
   ]
  },
  {
   "cell_type": "markdown",
   "metadata": {},
   "source": [
    "The data array contains two columns, the first column contains the `SALES` whereas the second represents the data for `ADVERTISEMENT`. For future calculations it is convinient to have `SALES` and `ADVERTISEMNT` in separate vectors `y` and `x`, respectively. You can extract the a column of a `numpy` array by indexing it like in this example: `array[:, COLUMN_NUMBER]`. Also note that in Python we start counting with 0 rather than with 1 ;)."
   ]
  },
  {
   "cell_type": "code",
   "execution_count": null,
   "metadata": {
    "collapsed": true
   },
   "outputs": [],
   "source": [
    "x = \n",
    "y = "
   ]
  },
  {
   "cell_type": "code",
   "execution_count": null,
   "metadata": {
    "collapsed": false
   },
   "outputs": [],
   "source": [
    "# DON'T EDIT THIS CELL\n",
    "test_x_and_y(x, y)"
   ]
  },
  {
   "cell_type": "markdown",
   "metadata": {},
   "source": [
    "Now we are ready to plot `x` against `y` using `matplotlib`. You may find `plt.plot` or `plt.scatter` useful, also try to label the axes appropriate (ask Google if you're unsure about how to that)."
   ]
  },
  {
   "cell_type": "code",
   "execution_count": null,
   "metadata": {
    "collapsed": false
   },
   "outputs": [],
   "source": []
  },
  {
   "cell_type": "markdown",
   "metadata": {},
   "source": [
    "# Problem 2 - Computing Regression Coefficients"
   ]
  },
  {
   "cell_type": "markdown",
   "metadata": {},
   "source": [
    "Now, let us write a functions which takes to arguments `x` and `y` and returns us the regression coefficients `beta_0` and `beta_1` ! Use the formulas from the slides, you may find `np.mean` and `np.sum` useful."
   ]
  },
  {
   "cell_type": "code",
   "execution_count": null,
   "metadata": {
    "collapsed": false
   },
   "outputs": [],
   "source": [
    "def simple_linear_regression(x, y):\n",
    "    \"\"\"\n",
    "    Takes the predicting variable x and responding variable y as input\n",
    "    and returns the coeffients beta_0 and beta_1.\n",
    "    \"\"\"\n",
    "    # first calculate the means of x, y\n",
    "    y_bar = \n",
    "    x_bar = \n",
    "    # now compute beta_1\n",
    "    beta_1 =\n",
    "    # ... and beta_0\n",
    "    beta_0 =\n",
    "    return (beta_0, beta_1)"
   ]
  },
  {
   "cell_type": "markdown",
   "metadata": {},
   "source": [
    "Use your function `simple_linear_regression` to calculate the coeffiencts ..."
   ]
  },
  {
   "cell_type": "code",
   "execution_count": null,
   "metadata": {
    "collapsed": false
   },
   "outputs": [],
   "source": [
    "beta_0, beta_1 = simple_linear_regression(x,y)"
   ]
  },
  {
   "cell_type": "code",
   "execution_count": null,
   "metadata": {
    "collapsed": false
   },
   "outputs": [],
   "source": [
    "# DON'T EDIT THIS CELL\n",
    "test_simple_linear_regression(beta_0,beta_1)"
   ]
  },
  {
   "cell_type": "markdown",
   "metadata": {},
   "source": [
    "To test if our calculations make sense let's plot the regression line together with our datapoints. You will start to write a function that takes a number (or `numpy` array) as input and returns the predicted `y` value."
   ]
  },
  {
   "cell_type": "code",
   "execution_count": null,
   "metadata": {
    "collapsed": true
   },
   "outputs": [],
   "source": [
    "def predict(x, beta_0, beta_1):\n",
    "    \"\"\"\n",
    "    Returns the value of y given x, beta_0 and beta_1.\n",
    "    \"\"\"\n",
    "    return "
   ]
  },
  {
   "cell_type": "code",
   "execution_count": null,
   "metadata": {
    "collapsed": false
   },
   "outputs": [],
   "source": [
    "# DON'T EDIT THIS CELL\n",
    "test_predict(predict)"
   ]
  },
  {
   "cell_type": "markdown",
   "metadata": {},
   "source": [
    "To plot the data and the regression line we first have to set up an `x_vals` vector which will contain the input for our predict function. The x-values should range from 300-700. To create such an array you may want to use `np.arange` or `np.linspace`. Just like in Problem 1 we will then plot the points but call the plot function twice in order to visualize the regression line."
   ]
  },
  {
   "cell_type": "code",
   "execution_count": null,
   "metadata": {
    "collapsed": false
   },
   "outputs": [],
   "source": []
  },
  {
   "cell_type": "markdown",
   "metadata": {},
   "source": [
    "# Problem 3 - MSE"
   ]
  },
  {
   "cell_type": "markdown",
   "metadata": {},
   "source": [
    "We have seen in Lecture that we can estimate the variance of $\\epsilon$ with the mean square error. You should now try to implement the function, you may want to use the functions you have implemented before :)."
   ]
  },
  {
   "cell_type": "code",
   "execution_count": null,
   "metadata": {
    "collapsed": false
   },
   "outputs": [],
   "source": [
    "def mean_squared_error(x, y):\n",
    "    \"\"\"\n",
    "    Takes x and y as input and returns the MSE.\n",
    "    \"\"\"\n",
    "    # identify the number datapoints\n",
    "    n = \n",
    "    # compute the regression coefficents\n",
    "    beta_0, beta_1 = \n",
    "    # compute y_hat\n",
    "    y_hat = \n",
    "    # now the residuals y_hat - y\n",
    "    r = \n",
    "    # use the squared residuals and n to compute the MSE\n",
    "    mse = \n",
    "    return mse"
   ]
  },
  {
   "cell_type": "markdown",
   "metadata": {},
   "source": [
    "A very valid question is why should we actually care about the MSE ? To get further insights you should play around `investigate_mse(size, std, beta_0, beta_1)`, this function does the following:\n",
    "\n",
    "1. It creates a `size` random $x_i$ data points in the range from [300, 800] and calculates corresponding $y_i$ using our regression formula $\\beta_0+\\beta_1 x_i$ and the `beta_0, beta_1` you use as arguments.\n",
    "2. It adds normal noise to $y_i$ with fixed `std`.\n",
    "3. It fits a regression line $\\hat f(x)$ and compute its associated MSE.\n",
    "\n",
    "Now try play around with the parameters `std` and keep the `size` fixed. What happens when you increase `std` ? Would you trust a model with a large `MSE`?\n"
   ]
  },
  {
   "cell_type": "code",
   "execution_count": null,
   "metadata": {
    "collapsed": false,
    "scrolled": true
   },
   "outputs": [],
   "source": []
  },
  {
   "cell_type": "code",
   "execution_count": null,
   "metadata": {
    "collapsed": false
   },
   "outputs": [],
   "source": []
  },
  {
   "cell_type": "markdown",
   "metadata": {},
   "source": [
    "Now keep `std` fix and play with `size`. How does the MSE change? Also keep an eye on the estimated model parameters ! What do you observe when the sample size increases?"
   ]
  },
  {
   "cell_type": "code",
   "execution_count": null,
   "metadata": {
    "collapsed": false
   },
   "outputs": [],
   "source": []
  },
  {
   "cell_type": "code",
   "execution_count": null,
   "metadata": {
    "collapsed": false
   },
   "outputs": [],
   "source": []
  },
  {
   "cell_type": "markdown",
   "metadata": {},
   "source": [
    "# Problem 4 - Inference"
   ]
  },
  {
   "cell_type": "markdown",
   "metadata": {},
   "source": [
    "Now that you're an expert in `numpy` it should be no problem for you to caculate the t-statistic the regression coefficient $\\hat\\beta_1$."
   ]
  },
  {
   "cell_type": "code",
   "execution_count": null,
   "metadata": {
    "collapsed": true
   },
   "outputs": [],
   "source": [
    "t_stat = "
   ]
  },
  {
   "cell_type": "code",
   "execution_count": null,
   "metadata": {
    "collapsed": false
   },
   "outputs": [],
   "source": [
    "# DON'T EDIT THIS CELL\n",
    "test_t_stat(t_stat)"
   ]
  },
  {
   "cell_type": "code",
   "execution_count": null,
   "metadata": {
    "collapsed": false
   },
   "outputs": [],
   "source": [
    "beta1_t_stat(x,y)"
   ]
  },
  {
   "cell_type": "markdown",
   "metadata": {},
   "source": [
    "Now that you have the t-statistic you can compute its associated t-value. To compute this value you may want to import class `t` from `scipy.stats`. You should get familiar with reading library documentations: you can find the documentations for `t` here https://docs.scipy.org/doc/scipy-0.19.1/reference/generated/scipy.stats.t.html, and you might be interested in the method which let you compute left tail probabilities (`cdf`) ..."
   ]
  },
  {
   "cell_type": "code",
   "execution_count": null,
   "metadata": {
    "collapsed": false
   },
   "outputs": [],
   "source": []
  },
  {
   "cell_type": "code",
   "execution_count": null,
   "metadata": {
    "collapsed": false
   },
   "outputs": [],
   "source": [
    "# DON'T EDIT THE CELL\n",
    "test_p_val(p_val)"
   ]
  }
 ],
 "metadata": {
  "anaconda-cloud": {},
  "kernelspec": {
   "display_name": "Python [conda root]",
   "language": "python",
   "name": "conda-root-py"
  },
  "language_info": {
   "codemirror_mode": {
    "name": "ipython",
    "version": 3
   },
   "file_extension": ".py",
   "mimetype": "text/x-python",
   "name": "python",
   "nbconvert_exporter": "python",
   "pygments_lexer": "ipython3",
   "version": "3.5.2"
  }
 },
 "nbformat": 4,
 "nbformat_minor": 1
}
